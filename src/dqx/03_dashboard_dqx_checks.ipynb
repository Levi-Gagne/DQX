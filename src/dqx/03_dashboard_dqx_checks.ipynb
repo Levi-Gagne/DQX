{
 "cells": [
  {
   "cell_type": "markdown",
   "metadata": {
    "application/vnd.databricks.v1+cell": {
     "cellMetadata": {},
     "inputWidgets": {},
     "nuid": "e98fb36c-b673-4140-bf7f-8a226593588e",
     "showTitle": false,
     "tableResultSettingsMap": {},
     "title": ""
    }
   },
   "source": [
    "# DQX Dashboard"
   ]
  },
  {
   "cell_type": "code",
   "execution_count": 0,
   "metadata": {
    "application/vnd.databricks.v1+cell": {
     "cellMetadata": {},
     "inputWidgets": {},
     "nuid": "31157eee-573f-4ada-8c55-22ebf177d561",
     "showTitle": false,
     "tableResultSettingsMap": {},
     "title": ""
    }
   },
   "outputs": [],
   "source": [
    "%pip install databricks-labs-dqx==0.8.0"
   ]
  },
  {
   "cell_type": "code",
   "execution_count": 0,
   "metadata": {
    "application/vnd.databricks.v1+cell": {
     "cellMetadata": {
      "byteLimit": 2048000,
      "rowLimit": 10000
     },
     "inputWidgets": {},
     "nuid": "82090f6b-1313-4a32-a4bf-960bf386cb6c",
     "showTitle": false,
     "tableResultSettingsMap": {},
     "title": ""
    }
   },
   "outputs": [],
   "source": [
    "%databricks labs dqx open-dashboards"
   ]
  },
  {
   "cell_type": "code",
   "execution_count": 0,
   "metadata": {
    "application/vnd.databricks.v1+cell": {
     "cellMetadata": {},
     "inputWidgets": {},
     "nuid": "3a9ff683-d53e-4d33-8103-a022602ee2f9",
     "showTitle": false,
     "tableResultSettingsMap": {},
     "title": ""
    }
   },
   "outputs": [],
   "source": [
    "from databricks.sdk import WorkspaceClient\n",
    "from databricks.labs.dqx.contexts.workspace import WorkspaceContext\n",
    "\n",
    "# Optional: make the link clickable in the notebook\n",
    "def _display_html_link(url: str, label: str = None):\n",
    "    try:\n",
    "        displayHTML(f'<a href=\"{url}\" target=\"_blank\">{label or url}</a>')\n",
    "    except Exception:\n",
    "        print(url)\n",
    "\n",
    "# Build the base link to the dashboards \"folder\" in your workspace\n",
    "ctx = WorkspaceContext(WorkspaceClient())\n",
    "dashboards_folder_link = f\"{ctx.installation.workspace_link('')}dashboards/\"\n",
    "\n",
    "print(\"Open a dashboard from this folder, then hit Refresh inside the dashboard:\")\n",
    "print(dashboards_folder_link)\n",
    "_display_html_link(dashboards_folder_link, \"Open DQX dashboards folder\")\n",
    "\n",
    "# (Optional) If you know a specific dashboard path (from the UI),\n",
    "# you can deep-link to it like this:\n",
    "# my_dash_relpath = \"dashboards/Shared/DQX/Quality Overview\"  # example path after you open the folder and copy link\n",
    "# my_dash_link = f\"{ctx.installation.workspace_link('')}{my_dash_relpath}\"\n",
    "# print(\"Direct dashboard link:\")\n",
    "# _display_html_link(my_dash_link, \"Open: DQX – Quality Overview\")"
   ]
  }
 ],
 "metadata": {
  "application/vnd.databricks.v1+notebook": {
   "computePreferences": null,
   "dashboards": [],
   "environmentMetadata": {
    "base_environment": "",
    "environment_version": "2"
   },
   "inputWidgetPreferences": null,
   "language": "python",
   "notebookMetadata": {
    "pythonIndentUnit": 2
   },
   "notebookName": "03_dashboard_dqx_checks",
   "widgets": {}
  },
  "language_info": {
   "name": "python"
  }
 },
 "nbformat": 4,
 "nbformat_minor": 0
}
