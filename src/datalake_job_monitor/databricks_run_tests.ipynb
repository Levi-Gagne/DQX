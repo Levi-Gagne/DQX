{
 "cells": [
  {
   "cell_type": "markdown",
   "metadata": {
    "application/vnd.databricks.v1+cell": {
     "cellMetadata": {},
     "inputWidgets": {},
     "nuid": "d5b3f844-8363-4126-8018-f9cd80301fdc",
     "showTitle": false,
     "tableResultSettingsMap": {},
     "title": ""
    }
   },
   "source": [
    "# Unit Tests  \n",
    "**File Purpose:** The purpose of this file is to provide a place where developers can run specific unit tests in databricks\n",
    "\n",
    "**Use Cases:** The following text inputs have been provided: \n",
    "- filename: the file name you wish to test.  If none is selected the whole test suite in tests will be run\n",
    "- testname: the name of the test you wish to test.  If populated without a filename, the test suite will fail, otherwise, it will search in the specific file for a test by that name and will run it.  "
   ]
  },
  {
   "cell_type": "code",
   "execution_count": 0,
   "metadata": {
    "application/vnd.databricks.v1+cell": {
     "cellMetadata": {
      "byteLimit": 2048000,
      "rowLimit": 10000
     },
     "collapsed": true,
     "inputWidgets": {},
     "nuid": "9728df9e-52c5-46ed-9162-33b8bffe0be1",
     "showTitle": true,
     "tableResultSettingsMap": {},
     "title": "Install Pytest"
    }
   },
   "outputs": [],
   "source": [
    "%pip install pytest"
   ]
  },
  {
   "cell_type": "markdown",
   "metadata": {
    "application/vnd.databricks.v1+cell": {
     "cellMetadata": {},
     "inputWidgets": {},
     "nuid": "89791724-455d-4137-9077-643d8f59474a",
     "showTitle": false,
     "tableResultSettingsMap": {},
     "title": ""
    }
   },
   "source": [
    "Below we invoke our pytest suite via shell (since the Databricks web terminal is disabled). The command:\n",
    "\n",
    "- Moves into the test directory\n",
    "- Runs `pytest` with verbose (`-v`) and streamed (`-s`) output\n",
    "- Writes everything to a timestamped log for later review"
   ]
  },
  {
   "cell_type": "code",
   "execution_count": 0,
   "metadata": {
    "application/vnd.databricks.v1+cell": {
     "cellMetadata": {
      "byteLimit": 2048000,
      "rowLimit": 10000
     },
     "inputWidgets": {},
     "nuid": "7433b177-8728-40a3-a94e-6662f065d443",
     "showTitle": true,
     "tableResultSettingsMap": {},
     "title": "Setup Widgets"
    }
   },
   "outputs": [],
   "source": [
    "dbutils.widgets.text(\"filename\", \"\")\n",
    "dbutils.widgets.text(\"testname\", \"\")"
   ]
  },
  {
   "cell_type": "code",
   "execution_count": 0,
   "metadata": {
    "application/vnd.databricks.v1+cell": {
     "cellMetadata": {
      "byteLimit": 2048000,
      "rowLimit": 10000
     },
     "inputWidgets": {},
     "nuid": "d9b317fa-5cac-41f7-a0ed-a07f2362ef44",
     "showTitle": false,
     "tableResultSettingsMap": {},
     "title": ""
    }
   },
   "outputs": [],
   "source": [
    "import pathlib\n",
    "import os\n",
    "import pytest\n",
    "import sys\n",
    "notebook_directory = \"/Workspace\" + str(pathlib.Path().cwd().resolve())\n",
    "root_dir = os.path.dirname(notebook_directory)\n",
    "os.environ['PYTHONPATH'] = root_dir\n",
    "file_name = dbutils.widgets.get(\"filename\")\n",
    "test_name = dbutils.widgets.get(\"testname\")\n",
    "sys.path.insert(0, os.path.join(root_dir))\n",
    "if file_name != \"\" :\n",
    "  if not file_name.endswith(\".py\"):\n",
    "    print('Error, filename must end with .py')  \n",
    "  else:\n",
    "    if test_name != \"\":\n",
    "      test = f\"{file_name}::{test_name}\"\n",
    "    else:\n",
    "      test = file_name\n",
    "    result = pytest.main(['-v', '-s', '--tb=short', f'tests/{test}', '--assert=plain'])\n",
    "elif test_name != \"\":\n",
    "  print('Error, cannot run tests without filenames') \n",
    "else:\n",
    "  result = pytest.main(['-v', '-s', '--tb=short', 'tests', '--assert=plain'])"
   ]
  }
 ],
 "metadata": {
  "application/vnd.databricks.v1+notebook": {
   "computePreferences": null,
   "dashboards": [],
   "environmentMetadata": {
    "base_environment": "",
    "environment_version": "2"
   },
   "inputWidgetPreferences": null,
   "language": "python",
   "notebookMetadata": {
    "mostRecentlyExecutedCommandWithImplicitDF": {
     "commandId": 7596841511852643,
     "dataframes": [
      "_sqldf"
     ]
    },
    "pythonIndentUnit": 2
   },
   "notebookName": "databricks_run_tests",
   "widgets": {
    "filename": {
     "currentValue": "test_tokenConfig.py",
     "nuid": "60651b90-e585-49ea-8a43-c600840f3c62",
     "typedWidgetInfo": {
      "autoCreated": false,
      "defaultValue": "",
      "label": null,
      "name": "filename",
      "options": {
       "widgetDisplayType": "Text",
       "validationRegex": null
      },
      "parameterDataType": "String"
     },
     "widgetInfo": {
      "widgetType": "text",
      "defaultValue": "",
      "label": null,
      "name": "filename",
      "options": {
       "widgetType": "text",
       "autoCreated": null,
       "validationRegex": null
      }
     }
    },
    "testname": {
     "currentValue": "",
     "nuid": "e9b9e6a3-1105-424a-b147-6b1ab34ffa3c",
     "typedWidgetInfo": {
      "autoCreated": false,
      "defaultValue": "",
      "label": null,
      "name": "testname",
      "options": {
       "widgetDisplayType": "Text",
       "validationRegex": null
      },
      "parameterDataType": "String"
     },
     "widgetInfo": {
      "widgetType": "text",
      "defaultValue": "",
      "label": null,
      "name": "testname",
      "options": {
       "widgetType": "text",
       "autoCreated": false,
       "validationRegex": null
      }
     }
    }
   }
  },
  "language_info": {
   "name": "python"
  }
 },
 "nbformat": 4,
 "nbformat_minor": 0
}
